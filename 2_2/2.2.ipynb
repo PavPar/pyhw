{
 "cells": [
  {
   "cell_type": "code",
   "execution_count": 1,
   "metadata": {},
   "outputs": [],
   "source": [
    "import io \n",
    "import pandas as pd\n",
    "from collections import defaultdict\n",
    "from surprise import Dataset\n",
    "from surprise import NormalPredictor\n",
    "from surprise import SVD\n",
    "from surprise import KNNBasic\n",
    "from surprise import get_dataset_dir\n",
    "from surprise.model_selection import cross_validate\n",
    "from surprise.model_selection import train_test_split"
   ]
  },
  {
   "cell_type": "markdown",
   "metadata": {},
   "source": [
    "Данные"
   ]
  },
  {
   "cell_type": "code",
   "execution_count": 2,
   "metadata": {},
   "outputs": [],
   "source": [
    "data = Dataset.load_builtin('ml-100k')"
   ]
  },
  {
   "cell_type": "markdown",
   "metadata": {},
   "source": [
    "Определяем алгоритмы"
   ]
  },
  {
   "cell_type": "code",
   "execution_count": 3,
   "metadata": {},
   "outputs": [],
   "source": [
    "algs = {\n",
    "    \"normal\": NormalPredictor(),\n",
    "    \"KNN_cos\": KNNBasic(30, sim_options={'name': 'cosine'}),\n",
    "    \"KNN_msd\": KNNBasic(30, sim_options={'name': 'msd'}),\n",
    "    \"KNN_pear\": KNNBasic(30, sim_options={'name': 'pearson_baseline'}),\n",
    "    \"SVD\": SVD()\n",
    "}"
   ]
  },
  {
   "cell_type": "code",
   "execution_count": 4,
   "metadata": {
    "scrolled": false
   },
   "outputs": [
    {
     "name": "stdout",
     "output_type": "stream",
     "text": [
      "Evaluating RMSE of algorithm NormalPredictor on 5 split(s).\n",
      "\n",
      "                  Fold 1  Fold 2  Fold 3  Fold 4  Fold 5  Mean    Std     \n",
      "RMSE (testset)    1.5200  1.5103  1.5218  1.5222  1.5126  1.5173  0.0049  \n",
      "Fit time          0.10    0.12    0.12    0.12    0.12    0.12    0.01    \n",
      "Test time         0.12    0.16    0.16    0.11    0.16    0.14    0.02    \n",
      "Computing the cosine similarity matrix...\n",
      "Done computing similarity matrix.\n",
      "Computing the cosine similarity matrix...\n",
      "Done computing similarity matrix.\n",
      "Computing the cosine similarity matrix...\n",
      "Done computing similarity matrix.\n",
      "Computing the cosine similarity matrix...\n",
      "Done computing similarity matrix.\n",
      "Computing the cosine similarity matrix...\n",
      "Done computing similarity matrix.\n",
      "Evaluating RMSE of algorithm KNNBasic on 5 split(s).\n",
      "\n",
      "                  Fold 1  Fold 2  Fold 3  Fold 4  Fold 5  Mean    Std     \n",
      "RMSE (testset)    1.0109  1.0215  1.0235  1.0182  1.0224  1.0193  0.0046  \n",
      "Fit time          0.83    0.97    0.88    0.88    0.86    0.88    0.05    \n",
      "Test time         2.63    2.62    2.63    2.66    2.62    2.63    0.01    \n",
      "Computing the msd similarity matrix...\n",
      "Done computing similarity matrix.\n",
      "Computing the msd similarity matrix...\n",
      "Done computing similarity matrix.\n",
      "Computing the msd similarity matrix...\n",
      "Done computing similarity matrix.\n",
      "Computing the msd similarity matrix...\n",
      "Done computing similarity matrix.\n",
      "Computing the msd similarity matrix...\n",
      "Done computing similarity matrix.\n",
      "Evaluating RMSE of algorithm KNNBasic on 5 split(s).\n",
      "\n",
      "                  Fold 1  Fold 2  Fold 3  Fold 4  Fold 5  Mean    Std     \n",
      "RMSE (testset)    0.9686  0.9688  0.9829  0.9755  0.9867  0.9765  0.0073  \n",
      "Fit time          0.34    0.36    0.37    0.36    0.37    0.36    0.01    \n",
      "Test time         2.69    2.64    2.59    2.66    2.62    2.64    0.03    \n",
      "Estimating biases using als...\n",
      "Computing the pearson_baseline similarity matrix...\n",
      "Done computing similarity matrix.\n",
      "Estimating biases using als...\n",
      "Computing the pearson_baseline similarity matrix...\n",
      "Done computing similarity matrix.\n",
      "Estimating biases using als...\n",
      "Computing the pearson_baseline similarity matrix...\n",
      "Done computing similarity matrix.\n",
      "Estimating biases using als...\n",
      "Computing the pearson_baseline similarity matrix...\n",
      "Done computing similarity matrix.\n",
      "Estimating biases using als...\n",
      "Computing the pearson_baseline similarity matrix...\n",
      "Done computing similarity matrix.\n",
      "Evaluating RMSE of algorithm KNNBasic on 5 split(s).\n",
      "\n",
      "                  Fold 1  Fold 2  Fold 3  Fold 4  Fold 5  Mean    Std     \n",
      "RMSE (testset)    1.0000  0.9981  1.0024  0.9997  0.9989  0.9998  0.0014  \n",
      "Fit time          1.09    1.09    1.10    1.10    1.12    1.10    0.01    \n",
      "Test time         2.60    2.63    2.55    2.64    2.58    2.60    0.03    \n",
      "Evaluating RMSE of algorithm SVD on 5 split(s).\n",
      "\n",
      "                  Fold 1  Fold 2  Fold 3  Fold 4  Fold 5  Mean    Std     \n",
      "RMSE (testset)    0.9338  0.9444  0.9319  0.9312  0.9409  0.9364  0.0053  \n",
      "Fit time          4.34    4.41    4.45    4.27    4.62    4.42    0.12    \n",
      "Test time         0.22    0.21    0.13    0.23    0.21    0.20    0.03    \n"
     ]
    }
   ],
   "source": [
    "algPerf = {}\n",
    "for name, alg in algs.items():\n",
    "    crv = cross_validate(alg, data, measures=['RMSE'], verbose=True)\n",
    "    algPerf[name] = round(crv['test_rmse'].mean(), 3)"
   ]
  },
  {
   "cell_type": "markdown",
   "metadata": {},
   "source": [
    "Поиск лучшего алгоритма"
   ]
  },
  {
   "cell_type": "code",
   "execution_count": 5,
   "metadata": {},
   "outputs": [
    {
     "data": {
      "text/plain": [
       "{'normal': 1.517,\n",
       " 'KNN_cos': 1.019,\n",
       " 'KNN_msd': 0.976,\n",
       " 'KNN_pear': 1.0,\n",
       " 'SVD': 0.936}"
      ]
     },
     "execution_count": 5,
     "metadata": {},
     "output_type": "execute_result"
    }
   ],
   "source": [
    "algPerf"
   ]
  },
  {
   "cell_type": "code",
   "execution_count": 6,
   "metadata": {},
   "outputs": [
    {
     "data": {
      "text/plain": [
       "'SVD'"
      ]
     },
     "execution_count": 6,
     "metadata": {},
     "output_type": "execute_result"
    }
   ],
   "source": [
    "bestAlg = {}\n",
    "bestAlgName = min(algPerf,key=algPerf.get);\n",
    "bestAlg = algs[bestAlgName]\n",
    "\n",
    "bestAlgName"
   ]
  },
  {
   "cell_type": "code",
   "execution_count": 7,
   "metadata": {},
   "outputs": [],
   "source": [
    "trainset, testset = train_test_split(data, test_size=.25)"
   ]
  },
  {
   "cell_type": "code",
   "execution_count": 15,
   "metadata": {},
   "outputs": [],
   "source": [
    "bestAlg.fit(trainset)\n",
    "predictn = bestAlg.test(testset)"
   ]
  },
  {
   "cell_type": "code",
   "execution_count": 9,
   "metadata": {},
   "outputs": [
    {
     "name": "stdout",
     "output_type": "stream",
     "text": [
      "0.7420113114174616\n",
      "0.3621791611491127\n"
     ]
    }
   ],
   "source": [
    "#https://github.com/NicolasHug/Surprise/blob/master/examples/precision_recall_at_k.py\n",
    "\n",
    "def precision_recall_at_k(predictions, k=10, threshold=3.5):\n",
    "    \"\"\"Return precision and recall at k metrics for each user\"\"\"\n",
    "\n",
    "    # First map the predictions to each user.\n",
    "    user_est_true = defaultdict(list)\n",
    "    for uid, _, true_r, est, _ in predictions:\n",
    "        user_est_true[uid].append((est, true_r))\n",
    "\n",
    "    precisions = dict()\n",
    "    recalls = dict()\n",
    "    for uid, user_ratings in user_est_true.items():\n",
    "\n",
    "        # Sort user ratings by estimated value\n",
    "        user_ratings.sort(key=lambda x: x[0], reverse=True)\n",
    "\n",
    "        # Number of relevant items\n",
    "        n_rel = sum((true_r >= threshold) for (_, true_r) in user_ratings)\n",
    "\n",
    "        # Number of recommended items in top k\n",
    "        n_rec_k = sum((est >= threshold) for (est, _) in user_ratings[:k])\n",
    "\n",
    "        # Number of relevant and recommended items in top k\n",
    "        n_rel_and_rec_k = sum(((true_r >= threshold) and (est >= threshold))\n",
    "                              for (est, true_r) in user_ratings[:k])\n",
    "\n",
    "        # Precision@K: Proportion of recommended items that are relevant\n",
    "        # When n_rec_k is 0, Precision is undefined. We here set it to 0.\n",
    "\n",
    "        precisions[uid] = n_rel_and_rec_k / n_rec_k if n_rec_k != 0 else 0\n",
    "\n",
    "        # Recall@K: Proportion of relevant items that are recommended\n",
    "        # When n_rel is 0, Recall is undefined. We here set it to 0.\n",
    "\n",
    "        recalls[uid] = n_rel_and_rec_k / n_rel if n_rel != 0 else 0\n",
    "\n",
    "    return precisions, recalls\n",
    "\n",
    "precisions, recalls = precision_recall_at_k(predictn, k=5, threshold=3.52)\n",
    "\n",
    "\n",
    "precision_at_k = sum(prec for prec in precisions.values()) / len(precisions)\n",
    "recall_at_k = sum(rec for rec in recalls.values()) / len(recalls)\n",
    "\n",
    "print(precision_at_k)\n",
    "print(recall_at_k)"
   ]
  },
  {
   "cell_type": "code",
   "execution_count": 10,
   "metadata": {
    "scrolled": true
   },
   "outputs": [
    {
     "data": {
      "text/plain": [
       "[Prediction(uid='26', iid='50', r_ui=4.0, est=3.847770277320404, details={'was_impossible': False}),\n",
       " Prediction(uid='26', iid='181', r_ui=4.0, est=3.692657026736386, details={'was_impossible': False}),\n",
       " Prediction(uid='26', iid='302', r_ui=5.0, est=3.64938416149145, details={'was_impossible': False}),\n",
       " Prediction(uid='26', iid='276', r_ui=4.0, est=3.5892626777242778, details={'was_impossible': False}),\n",
       " Prediction(uid='26', iid='14', r_ui=3.0, est=3.409254834624297, details={'was_impossible': False})]"
      ]
     },
     "execution_count": 10,
     "metadata": {},
     "output_type": "execute_result"
    }
   ],
   "source": [
    "userID = '26'\n",
    "pred = list(filter(lambda x: x.uid == userID, predictn))\n",
    "bestPred = sorted(pred, key=lambda x: x.est, reverse=True)[:5]\n",
    "\n",
    "bestPred"
   ]
  },
  {
   "cell_type": "markdown",
   "metadata": {},
   "source": [
    "Получаем фильмы"
   ]
  },
  {
   "cell_type": "code",
   "execution_count": 16,
   "metadata": {},
   "outputs": [],
   "source": [
    "import os\n",
    "filePath = os.path.expanduser('~/.surprise_data/ml-100k/ml-100k/u.item')\n",
    "films = pd.read_csv(filePath, sep=\"|\", encoding='latin-1', header=None)"
   ]
  },
  {
   "cell_type": "code",
   "execution_count": 12,
   "metadata": {
    "scrolled": false
   },
   "outputs": [
    {
     "data": {
      "text/plain": [
       "{'50': 3.847770277320404,\n",
       " '181': 3.692657026736386,\n",
       " '302': 3.64938416149145,\n",
       " '276': 3.5892626777242778,\n",
       " '14': 3.409254834624297}"
      ]
     },
     "execution_count": 12,
     "metadata": {},
     "output_type": "execute_result"
    }
   ],
   "source": [
    "data = {x.iid:x.est for x in bestPred}\n",
    "data"
   ]
  },
  {
   "cell_type": "markdown",
   "metadata": {},
   "source": [
    "Результат"
   ]
  },
  {
   "cell_type": "code",
   "execution_count": 13,
   "metadata": {
    "scrolled": true
   },
   "outputs": [
    {
     "name": "stdout",
     "output_type": "stream",
     "text": [
      "User 26\n",
      "[51, 'Legends of the Fall (1994)', '01-Jan-1994', 3.847770277320404]\n",
      "[182, 'GoodFellas (1990)', '01-Jan-1990', 3.692657026736386]\n",
      "[303, \"Ulee's Gold (1997)\", '01-Jan-1997', 3.64938416149145]\n",
      "[277, 'Restoration (1995)', '01-Jan-1995', 3.5892626777242778]\n",
      "[15, \"Mr. Holland's Opus (1995)\", '29-Jan-1996', 3.409254834624297]\n"
     ]
    }
   ],
   "source": [
    "print(\"User \"+str(userID))\n",
    "for [filmId,est] in data.items():\n",
    "    filmData = list(films.iloc[int(filmId),:4].dropna().values)\n",
    "    filmData.append(est)\n",
    "    print(str(filmData))"
   ]
  }
 ],
 "metadata": {
  "kernelspec": {
   "display_name": "Python 3",
   "language": "python",
   "name": "python3"
  },
  "language_info": {
   "codemirror_mode": {
    "name": "ipython",
    "version": 3
   },
   "file_extension": ".py",
   "mimetype": "text/x-python",
   "name": "python",
   "nbconvert_exporter": "python",
   "pygments_lexer": "ipython3",
   "version": "3.6.9"
  }
 },
 "nbformat": 4,
 "nbformat_minor": 4
}
