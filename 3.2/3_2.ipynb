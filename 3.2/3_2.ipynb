{
 "cells": [
  {
   "cell_type": "code",
   "execution_count": null,
   "metadata": {},
   "outputs": [],
   "source": []
  },
  {
   "cell_type": "markdown",
   "metadata": {},
   "source": [
    "Задание 2.1 (Фильм)"
   ]
  },
  {
   "cell_type": "code",
   "execution_count": 1,
   "metadata": {},
   "outputs": [
    {
     "name": "stdout",
     "output_type": "stream",
     "text": [
      "{'user': 26, '1': {'Movie 3': 2.456, 'Movie 5': 3.289, 'Movie 8': 2.775, 'Movie 26': 3.554, 'Movie 30': 2.178}, '2': {'Movie 26': 3.554}}\n"
     ]
    }
   ],
   "source": [
    "import numpy as np\n",
    "import pandas as pd\n",
    "import math\n",
    "\n",
    "movieRating = pd.DataFrame(pd.read_csv('./data.csv'))\n",
    "\n",
    "contextPlace = pd.DataFrame(pd.read_csv('./context_place.csv'))\n",
    "contextDay = pd.DataFrame(pd.read_csv('./context_day.csv'))\n",
    "\n",
    "def sim(usrIndexA, usrIndexB):\n",
    "    trgtsRatings = movieRating.iloc[[usrIndexA, usrIndexB], range(1, len(movieRating.columns))]\n",
    "    commonRatings = trgtsRatings[trgtsRatings != -1].dropna(axis=1)\n",
    "\n",
    "    usrA = commonRatings.iloc[0, :]\n",
    "    usrB = commonRatings.iloc[1, :]\n",
    "\n",
    "    sumUsrA = usrA.apply(lambda x: x * x)\n",
    "    sumUsrB = usrB.apply(lambda x: x * x)\n",
    "\n",
    "    sumUsrA = math.sqrt(sumUsrA.sum())\n",
    "    sumUsrB = math.sqrt(sumUsrB.sum())\n",
    "\n",
    "    res = (usrA * usrB).sum() / (sumUsrA * sumUsrB)\n",
    "    return res\n",
    "\n",
    "\n",
    "\n",
    "def getMean(userID):\n",
    "    temp = movieRating.iloc[[userID], range(1, len(movieRating.columns))]\n",
    "    res = temp[temp != -1].dropna(axis=1).mean(axis=1)\n",
    "    return res.values[0]\n",
    "\n",
    "\n",
    "def getFilmRating(userID, filmID):\n",
    "    rating = movieRating.iloc[[userID], range(1, len(movieRating.columns))]\n",
    "    return rating.iloc[[0], [filmID]].values\n",
    "\n",
    "def getSimMatrix():\n",
    "    res = pd.DataFrame(np.zeros(shape=(movieRating.count()[0], movieRating.count()[0])),\n",
    "                       columns=range(0, movieRating.count()[0]))\n",
    "    for usrA in range(0, movieRating.count()[0]):\n",
    "        for usrB in range(0, movieRating.count()[0]):\n",
    "            if (usrA != usrB):\n",
    "                res.iat[usrA, usrB] = sim(usrA, usrB)\n",
    "    return res\n",
    "\n",
    "\n",
    "def getSimMatrixUser(usrA):\n",
    "    res = pd.DataFrame(np.zeros(shape=(1, movieRating.count()[0])), columns=range(0, movieRating.count()[0]))\n",
    "\n",
    "    for usrB in range(0, movieRating.count()[0]):\n",
    "        if (usrA != usrB):\n",
    "            res.iat[0, usrB] = sim(usrA, usrB)\n",
    "    return res\n",
    "\n",
    "\n",
    "def getEval(userID, filmID):\n",
    "    userID = userID - 1\n",
    "\n",
    "    usersK = simMatrix.iloc[0,:].sort_values( ascending=False)\n",
    "\n",
    "    badColumns = []\n",
    "    for trgtId in range(0, movieRating.count()[0]):\n",
    "        if (getFilmRating(trgtId, filmID) == -1 and trgtId != userID):\n",
    "            badColumns.append(trgtId)\n",
    "\n",
    "    usersK = usersK[:4]\n",
    "    usersK = usersK.drop(badColumns, errors='ignore')\n",
    "\n",
    "    sumSim = np.abs(usersK.sum())\n",
    "    usersSim = usersK.to_dict();\n",
    "\n",
    "    res = 0\n",
    "    for trgtID, sim in usersSim.items():\n",
    "        rvi = getFilmRating(trgtID, filmID)\n",
    "        rv = getMean(trgtID);\n",
    "        res = res + sim * (rvi - rv)\n",
    "    eval = getMean(userID) + (res / sumSim)\n",
    "    return [round(eval.item(0), 3), usersK]\n",
    "\n",
    "\n",
    "\n",
    "res = {}\n",
    "userID = 26\n",
    "bestFilm = {}\n",
    "\n",
    "simMatrix = getSimMatrixUser(userID - 1)\n",
    "\n",
    "\n",
    "\n",
    "simMatrix\n",
    "\n",
    "for i in range(0, len(movieRating.columns) - 1):\n",
    "    rvi = getFilmRating(userID - 1, i)\n",
    "    maxK = 0\n",
    "    if (rvi == -1):\n",
    "        evalRes = getEval(userID, i)\n",
    "        res['Movie ' + str(i + 1)] = evalRes[0]\n",
    "        if (len(bestFilm) == 0):\n",
    "            maxK = len(evalRes[1])\n",
    "            bestFilm.clear()\n",
    "            bestFilm['Movie ' + str(i + 1)] = evalRes[0]\n",
    "        if (len(evalRes[1]) >= maxK and bestFilm[next(iter(bestFilm))] < evalRes[0]):\n",
    "            maxK = evalRes[1]\n",
    "            bestFilm.clear()\n",
    "            bestFilm['Movie ' + str(i + 1)] = evalRes[0]\n",
    "\n",
    "\n",
    "resJson = {\n",
    "    'user': userID,\n",
    "    '1': res,\n",
    "    '2': bestFilm\n",
    "}\n",
    "print(resJson)"
   ]
  },
  {
   "cell_type": "markdown",
   "metadata": {},
   "source": [
    "Задание 3.2"
   ]
  },
  {
   "cell_type": "markdown",
   "metadata": {},
   "source": [
    "22 список имен детей всех актеров фильма с указанием имени актера"
   ]
  },
  {
   "cell_type": "code",
   "execution_count": 2,
   "metadata": {
    "scrolled": true
   },
   "outputs": [],
   "source": [
    "bestFilmNumber = next(iter(bestFilm.keys()))"
   ]
  },
  {
   "cell_type": "code",
   "execution_count": 3,
   "metadata": {},
   "outputs": [],
   "source": [
    "movieNames = pd.DataFrame(pd.read_csv('./movie_names.csv',encoding='ISO-8859-1', header = None))"
   ]
  },
  {
   "cell_type": "code",
   "execution_count": 4,
   "metadata": {
    "scrolled": false
   },
   "outputs": [],
   "source": [
    "movieName = movieNames.loc[movieNames[0]==bestFilmNumber][1].values[0]"
   ]
  },
  {
   "cell_type": "markdown",
   "metadata": {},
   "source": [
    "Делаем запрос на api"
   ]
  },
  {
   "cell_type": "code",
   "execution_count": 6,
   "metadata": {},
   "outputs": [],
   "source": [
    "from SPARQLWrapper import SPARQLWrapper, JSON\n",
    "import requests"
   ]
  },
  {
   "cell_type": "code",
   "execution_count": 7,
   "metadata": {},
   "outputs": [
    {
     "data": {
      "text/plain": [
       "'1995 German-American neo-noir crime thriller film directed by Bryan Singer'"
      ]
     },
     "execution_count": 7,
     "metadata": {},
     "output_type": "execute_result"
    }
   ],
   "source": [
    "api = \"https://www.wikidata.org/w/api.php\"\n",
    "\n",
    "params = {\n",
    "'action' : 'wbsearchentities',\n",
    "'format' : 'json',\n",
    "'language' : 'en',\n",
    "'search': movieName\n",
    "}\n",
    "\n",
    "res = requests.get(api, params = params)\n",
    "res.json()['search'][0]['description']"
   ]
  },
  {
   "cell_type": "code",
   "execution_count": 8,
   "metadata": {},
   "outputs": [],
   "source": [
    "movieCode = res.json()['search'][0]['id']"
   ]
  },
  {
   "cell_type": "code",
   "execution_count": 9,
   "metadata": {},
   "outputs": [
    {
     "data": {
      "text/plain": [
       "'Q132351'"
      ]
     },
     "execution_count": 9,
     "metadata": {},
     "output_type": "execute_result"
    }
   ],
   "source": [
    "movieCode"
   ]
  },
  {
   "cell_type": "code",
   "execution_count": 14,
   "metadata": {},
   "outputs": [],
   "source": [
    "sparql = SPARQLWrapper(\"https://query.wikidata.org/sparql\")\n",
    "\n",
    "sparql_query = \"\"\"\n",
    "SELECT distinct ?actorLabel ?child ?childLabel\n",
    "WHERE {\n",
    "  wd:\"\"\"+movieCode+\"\"\" wdt:P161 ?actor.\n",
    "  ?actor wdt:P40 ?child.\n",
    "  SERVICE wikibase:label { bd:serviceParam wikibase:language \"[AUTO_LANGUAGE],en\" }\n",
    "}\n",
    " \n",
    "\"\"\"\n",
    "\n",
    "sparql.setQuery(sparql_query)\n",
    "\n",
    "sparql.setReturnFormat(JSON)\n",
    "queryResult = sparql.query().convert()"
   ]
  },
  {
   "cell_type": "code",
   "execution_count": 15,
   "metadata": {},
   "outputs": [
    {
     "data": {
      "text/plain": [
       "{'head': {'vars': ['actorLabel', 'child', 'childLabel']},\n",
       " 'results': {'bindings': [{'child': {'type': 'uri',\n",
       "     'value': 'http://www.wikidata.org/entity/Q20983703'},\n",
       "    'actorLabel': {'xml:lang': 'en',\n",
       "     'type': 'literal',\n",
       "     'value': 'Stephen Baldwin'},\n",
       "    'childLabel': {'xml:lang': 'en',\n",
       "     'type': 'literal',\n",
       "     'value': 'Hailey Baldwin'}},\n",
       "   {'child': {'type': 'uri',\n",
       "     'value': 'http://www.wikidata.org/entity/Q57983542'},\n",
       "    'actorLabel': {'xml:lang': 'en',\n",
       "     'type': 'literal',\n",
       "     'value': 'Clark Gregg'},\n",
       "    'childLabel': {'xml:lang': 'en',\n",
       "     'type': 'literal',\n",
       "     'value': 'Stella Gregg'}}]}}"
      ]
     },
     "execution_count": 15,
     "metadata": {},
     "output_type": "execute_result"
    }
   ],
   "source": [
    "queryResult"
   ]
  },
  {
   "cell_type": "code",
   "execution_count": 16,
   "metadata": {},
   "outputs": [],
   "source": [
    "gatheredData = pd.json_normalize(results['results']['bindings'])"
   ]
  },
  {
   "cell_type": "code",
   "execution_count": 17,
   "metadata": {},
   "outputs": [
    {
     "data": {
      "text/html": [
       "<div>\n",
       "<style scoped>\n",
       "    .dataframe tbody tr th:only-of-type {\n",
       "        vertical-align: middle;\n",
       "    }\n",
       "\n",
       "    .dataframe tbody tr th {\n",
       "        vertical-align: top;\n",
       "    }\n",
       "\n",
       "    .dataframe thead th {\n",
       "        text-align: right;\n",
       "    }\n",
       "</style>\n",
       "<table border=\"1\" class=\"dataframe\">\n",
       "  <thead>\n",
       "    <tr style=\"text-align: right;\">\n",
       "      <th></th>\n",
       "      <th>child.type</th>\n",
       "      <th>child.value</th>\n",
       "      <th>actorLabel.xml:lang</th>\n",
       "      <th>actorLabel.type</th>\n",
       "      <th>actorLabel.value</th>\n",
       "      <th>childLabel.xml:lang</th>\n",
       "      <th>childLabel.type</th>\n",
       "      <th>childLabel.value</th>\n",
       "    </tr>\n",
       "  </thead>\n",
       "  <tbody>\n",
       "    <tr>\n",
       "      <th>0</th>\n",
       "      <td>uri</td>\n",
       "      <td>http://www.wikidata.org/entity/Q20983703</td>\n",
       "      <td>en</td>\n",
       "      <td>literal</td>\n",
       "      <td>Stephen Baldwin</td>\n",
       "      <td>en</td>\n",
       "      <td>literal</td>\n",
       "      <td>Hailey Baldwin</td>\n",
       "    </tr>\n",
       "    <tr>\n",
       "      <th>1</th>\n",
       "      <td>uri</td>\n",
       "      <td>http://www.wikidata.org/entity/Q57983542</td>\n",
       "      <td>en</td>\n",
       "      <td>literal</td>\n",
       "      <td>Clark Gregg</td>\n",
       "      <td>en</td>\n",
       "      <td>literal</td>\n",
       "      <td>Stella Gregg</td>\n",
       "    </tr>\n",
       "  </tbody>\n",
       "</table>\n",
       "</div>"
      ],
      "text/plain": [
       "  child.type                               child.value actorLabel.xml:lang  \\\n",
       "0        uri  http://www.wikidata.org/entity/Q20983703                  en   \n",
       "1        uri  http://www.wikidata.org/entity/Q57983542                  en   \n",
       "\n",
       "  actorLabel.type actorLabel.value childLabel.xml:lang childLabel.type  \\\n",
       "0         literal  Stephen Baldwin                  en         literal   \n",
       "1         literal      Clark Gregg                  en         literal   \n",
       "\n",
       "  childLabel.value  \n",
       "0   Hailey Baldwin  \n",
       "1     Stella Gregg  "
      ]
     },
     "execution_count": 17,
     "metadata": {},
     "output_type": "execute_result"
    }
   ],
   "source": [
    "gatheredData"
   ]
  },
  {
   "cell_type": "code",
   "execution_count": 19,
   "metadata": {},
   "outputs": [
    {
     "data": {
      "text/html": [
       "<div>\n",
       "<style scoped>\n",
       "    .dataframe tbody tr th:only-of-type {\n",
       "        vertical-align: middle;\n",
       "    }\n",
       "\n",
       "    .dataframe tbody tr th {\n",
       "        vertical-align: top;\n",
       "    }\n",
       "\n",
       "    .dataframe thead th {\n",
       "        text-align: right;\n",
       "    }\n",
       "</style>\n",
       "<table border=\"1\" class=\"dataframe\">\n",
       "  <thead>\n",
       "    <tr style=\"text-align: right;\">\n",
       "      <th></th>\n",
       "      <th>actorLabel.value</th>\n",
       "      <th>child.value</th>\n",
       "      <th>childLabel.value</th>\n",
       "    </tr>\n",
       "  </thead>\n",
       "  <tbody>\n",
       "    <tr>\n",
       "      <th>0</th>\n",
       "      <td>Stephen Baldwin</td>\n",
       "      <td>http://www.wikidata.org/entity/Q20983703</td>\n",
       "      <td>Hailey Baldwin</td>\n",
       "    </tr>\n",
       "    <tr>\n",
       "      <th>1</th>\n",
       "      <td>Clark Gregg</td>\n",
       "      <td>http://www.wikidata.org/entity/Q57983542</td>\n",
       "      <td>Stella Gregg</td>\n",
       "    </tr>\n",
       "  </tbody>\n",
       "</table>\n",
       "</div>"
      ],
      "text/plain": [
       "  actorLabel.value                               child.value childLabel.value\n",
       "0  Stephen Baldwin  http://www.wikidata.org/entity/Q20983703   Hailey Baldwin\n",
       "1      Clark Gregg  http://www.wikidata.org/entity/Q57983542     Stella Gregg"
      ]
     },
     "execution_count": 19,
     "metadata": {},
     "output_type": "execute_result"
    }
   ],
   "source": [
    "\n",
    "gatheredData[['actorLabel.value', 'child.value','childLabel.value']]"
   ]
  }
 ],
 "metadata": {
  "kernelspec": {
   "display_name": "Python 3",
   "language": "python",
   "name": "python3"
  },
  "language_info": {
   "codemirror_mode": {
    "name": "ipython",
    "version": 3
   },
   "file_extension": ".py",
   "mimetype": "text/x-python",
   "name": "python",
   "nbconvert_exporter": "python",
   "pygments_lexer": "ipython3",
   "version": "3.6.9"
  }
 },
 "nbformat": 4,
 "nbformat_minor": 4
}
