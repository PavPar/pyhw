{
 "cells": [
  {
   "cell_type": "code",
   "execution_count": 1,
   "metadata": {},
   "outputs": [],
   "source": [
    "# мой рекомендательный алгоритм начинается с блока 9\n",
    "import numpy as np\n",
    "import pandas as pd\n",
    "import math\n"
   ]
  },
  {
   "cell_type": "code",
   "execution_count": 2,
   "metadata": {},
   "outputs": [
    {
     "name": "stderr",
     "output_type": "stream",
     "text": [
      "/usr/local/lib/python3.6/dist-packages/ipykernel_launcher.py:5: ParserWarning: Falling back to the 'python' engine because the 'c' engine does not support regex separators (separators > 1 char and different from '\\s+' are interpreted as regex); you can avoid this warning by specifying engine='python'.\n",
      "  \"\"\"\n"
     ]
    }
   ],
   "source": [
    "KNN = 4\n",
    "MY_USER = 27\n",
    "NO_RATE = -1\n",
    "def readAndFormat(file):\n",
    "    table = pd.read_csv(file, delimiter=', ')\n",
    "    table = table.drop(columns=[table.columns[0]])\n",
    "    return table\n",
    "data = readAndFormat('data.csv')"
   ]
  },
  {
   "cell_type": "code",
   "execution_count": 3,
   "metadata": {},
   "outputs": [],
   "source": [
    "def getSimDict(data, relativeToUser):\n",
    "    sim = dict(zip(list(data.index.values) , [0 for i in range(len(data))]))\n",
    "    del sim[relativeToUser]\n",
    "    for user in sim.keys():\n",
    "        set = data.iloc[[user, relativeToUser]]\n",
    "        set = set.transpose()\n",
    "        set = set[(set[user] != NO_RATE) & (set[relativeToUser] != NO_RATE )]\n",
    "        sumuv = 0\n",
    "        sumuu = 0\n",
    "        sumvv = 0\n",
    "        for index, row in set.iterrows():\n",
    "            sumuv +=row[user] * row[relativeToUser]\n",
    "            sumuu +=row[user] * row[user]\n",
    "            sumvv +=row[relativeToUser] * row[relativeToUser]\n",
    "        sim[user] = round(sumuv / (math.sqrt(sumuu) * math.sqrt(sumvv)), 3)\n",
    "    return sim"
   ]
  },
  {
   "cell_type": "code",
   "execution_count": 4,
   "metadata": {},
   "outputs": [],
   "source": [
    "def headSortedDict(dictionary, n):\n",
    "    return dict(sorted(list(dictionary.items()), key=lambda x: x[1], reverse=True)[:n])\n"
   ]
  },
  {
   "cell_type": "code",
   "execution_count": 5,
   "metadata": {},
   "outputs": [],
   "source": [
    "\n",
    "def meanForDataFrame(data):\n",
    "    def tupleToMean(x):\n",
    "        l = np.array(list(filter(lambda x: x != NO_RATE, x)))\n",
    "        user = l[0]\n",
    "        l = np.delete(l, [0])\n",
    "        return [user, l.mean()]\n",
    "    return dict(list(map(tupleToMean, data.to_records())))\n",
    "\n"
   ]
  },
  {
   "cell_type": "code",
   "execution_count": 6,
   "metadata": {},
   "outputs": [],
   "source": [
    "# неоцененные фильмы\n",
    "def getUnratedMovies(data, user):\n",
    "    return list(data.loc[user][data.loc[user] == NO_RATE].keys())\n"
   ]
  },
  {
   "cell_type": "code",
   "execution_count": 7,
   "metadata": {},
   "outputs": [
    {
     "data": {
      "text/plain": [
       "['Movie 1', 'Movie 2', 'Movie 9', 'Movie 11']"
      ]
     },
     "execution_count": 7,
     "metadata": {},
     "output_type": "execute_result"
    }
   ],
   "source": [
    "UNRATED = getUnratedMovies(data, MY_USER)\n",
    "UNRATED"
   ]
  },
  {
   "cell_type": "code",
   "execution_count": 8,
   "metadata": {},
   "outputs": [
    {
     "data": {
      "text/plain": [
       "{0: 0.854,\n",
       " 1: 0.902,\n",
       " 2: 0.745,\n",
       " 3: 0.826,\n",
       " 4: 0.877,\n",
       " 5: 0.884,\n",
       " 6: 0.824,\n",
       " 7: 0.93,\n",
       " 8: 0.795,\n",
       " 9: 0.839,\n",
       " 10: 0.799,\n",
       " 11: 0.886,\n",
       " 12: 0.803,\n",
       " 13: 0.744,\n",
       " 14: 0.848,\n",
       " 15: 0.823,\n",
       " 16: 0.856,\n",
       " 17: 0.772,\n",
       " 18: 0.836,\n",
       " 19: 0.879,\n",
       " 20: 0.827,\n",
       " 21: 0.814,\n",
       " 22: 0.873,\n",
       " 23: 0.83,\n",
       " 24: 0.724,\n",
       " 25: 0.771,\n",
       " 26: 0.881,\n",
       " 28: 0.825,\n",
       " 29: 0.837,\n",
       " 30: 0.828,\n",
       " 31: 0.769,\n",
       " 32: 0.767,\n",
       " 33: 0.751,\n",
       " 34: 0.799,\n",
       " 35: 0.811,\n",
       " 36: 0.797,\n",
       " 37: 0.783,\n",
       " 38: 0.812,\n",
       " 39: 0.856}"
      ]
     },
     "execution_count": 8,
     "metadata": {},
     "output_type": "execute_result"
    }
   ],
   "source": [
    "SIM = getSimDict(data, MY_USER)\n",
    "SIM"
   ]
  },
  {
   "cell_type": "code",
   "execution_count": 9,
   "metadata": {},
   "outputs": [
    {
     "data": {
      "text/plain": [
       "{7: 0.93, 1: 0.902, 11: 0.886, 5: 0.884}"
      ]
     },
     "execution_count": 9,
     "metadata": {},
     "output_type": "execute_result"
    }
   ],
   "source": [
    "CLOSEST_SIM = headSortedDict(SIM, KNN)\n",
    "CLOSEST_SIM"
   ]
  },
  {
   "cell_type": "code",
   "execution_count": 10,
   "metadata": {},
   "outputs": [
    {
     "data": {
      "text/plain": [
       "{7: 3.2916666666666665,\n",
       " 1: 3.2916666666666665,\n",
       " 11: 3.8461538461538463,\n",
       " 5: 3.16,\n",
       " 27: 2.923076923076923}"
      ]
     },
     "execution_count": 10,
     "metadata": {},
     "output_type": "execute_result"
    }
   ],
   "source": [
    "MEANS = meanForDataFrame(data.iloc[[*list(CLOSEST_SIM.keys()), MY_USER]])\n",
    "MEANS"
   ]
  },
  {
   "cell_type": "code",
   "execution_count": 11,
   "metadata": {},
   "outputs": [
    {
     "name": "stdout",
     "output_type": "stream",
     "text": [
      "{'Movie 1': 3.161, 'Movie 2': 4.125, 'Movie 9': 2.418, 'Movie 11': 3.181}\n"
     ]
    }
   ],
   "source": [
    "newRates = {}\n",
    "for film in UNRATED:\n",
    "    sumt = 0\n",
    "    sumb = 0\n",
    "    for user in CLOSEST_SIM.keys():\n",
    "        rate = data.loc[user, film]\n",
    "        if rate == NO_RATE:\n",
    "            continue \n",
    "        sumb += SIM[user]\n",
    "        sumt += SIM[user] * (data.loc[user, film] - MEANS[user])\n",
    "    newRates[film] = round(MEANS[MY_USER] + sumt/sumb, 3)\n",
    "\n",
    "print(newRates)"
   ]
  },
  {
   "cell_type": "code",
   "execution_count": 12,
   "metadata": {},
   "outputs": [
    {
     "name": "stderr",
     "output_type": "stream",
     "text": [
      "/usr/local/lib/python3.6/dist-packages/ipykernel_launcher.py:5: ParserWarning: Falling back to the 'python' engine because the 'c' engine does not support regex separators (separators > 1 char and different from '\\s+' are interpreted as regex); you can avoid this warning by specifying engine='python'.\n",
      "  \"\"\"\n"
     ]
    }
   ],
   "source": [
    "dataDays = readAndFormat('context_day.csv')\n",
    "dataPlaces =readAndFormat('context_place.csv')\n",
    "DAYS = ['Sat', 'Sun']\n",
    "PLACES = ['h']"
   ]
  },
  {
   "cell_type": "code",
   "execution_count": 13,
   "metadata": {},
   "outputs": [],
   "source": [
    "# Возьмем 4 людей с наиболее близкими вкусами"
   ]
  },
  {
   "cell_type": "code",
   "execution_count": 14,
   "metadata": {},
   "outputs": [
    {
     "name": "stdout",
     "output_type": "stream",
     "text": [
      "{'Movie 1': 4.077, 'Movie 2': 4.631, 'Movie 9': 2.418, 'Movie 11': 2.923}\n"
     ]
    }
   ],
   "source": [
    "# посчитаем оценку фильмов, которые не смотрел пользователь как выше, но добавим контекстый вес:\n",
    "# для учета оценки, хотя бы 1 контекст должен совпасть \n",
    "# если совпали оба контекста, учтем оценку дополнительный раз, тем самым, увеличим ее все\n",
    "newRatesWithContext = {}\n",
    "for film in UNRATED:\n",
    "    sumt = 0\n",
    "    sumb = 0\n",
    "    for user in CLOSEST_SIM.keys():\n",
    "        rate = data.loc[user, film]\n",
    "        if rate == NO_RATE:\n",
    "            continue \n",
    "        if dataDays.loc[user, film] in DAYS:\n",
    "            sumb += SIM[user]\n",
    "            sumt += SIM[user] * (data.loc[user, film] - MEANS[user])\n",
    "        if dataPlaces.loc[user, film] in PLACES:\n",
    "            sumb += SIM[user]\n",
    "            sumt += SIM[user] * (data.loc[user, film] - MEANS[user])\n",
    "    newRatesWithContext[film] = round(MEANS[MY_USER] + (sumt/sumb if sumb !=0 else 0) , 3)\n",
    "\n",
    "print(newRatesWithContext)"
   ]
  },
  {
   "cell_type": "code",
   "execution_count": 15,
   "metadata": {},
   "outputs": [
    {
     "data": {
      "text/plain": [
       "{'Movie 2': 4.631}"
      ]
     },
     "execution_count": 15,
     "metadata": {},
     "output_type": "execute_result"
    }
   ],
   "source": [
    "# выбирем фильм с наибольшей оценкой\n",
    "BEST_SUGGESTION = headSortedDict(newRatesWithContext, 1)\n",
    "BEST_SUGGESTION"
   ]
  },
  {
   "cell_type": "code",
   "execution_count": 16,
   "metadata": {},
   "outputs": [
    {
     "name": "stdout",
     "output_type": "stream",
     "text": [
      "{'user': 28, '1': {'Movie 1': 3.161, 'Movie 2': 4.125, 'Movie 9': 2.418, 'Movie 11': 3.181}, '2': {'Movie 2': 4.631}}\n"
     ]
    }
   ],
   "source": [
    "# формируем результат и пишем в json\n",
    "result = {\n",
    "    'user': MY_USER + 1,\n",
    "    '1': newRates,\n",
    "    '2': BEST_SUGGESTION\n",
    "}\n",
    "print(result)\n",
    "import json\n",
    "with open('result.json', 'w') as fp:\n",
    "    json.dump(result, fp, indent=4)"
   ]
  },
  {
   "cell_type": "code",
   "execution_count": null,
   "metadata": {},
   "outputs": [],
   "source": []
  }
 ],
 "metadata": {
  "kernelspec": {
   "display_name": "Python 3",
   "language": "python",
   "name": "python3"
  },
  "language_info": {
   "codemirror_mode": {
    "name": "ipython",
    "version": 3
   },
   "file_extension": ".py",
   "mimetype": "text/x-python",
   "name": "python",
   "nbconvert_exporter": "python",
   "pygments_lexer": "ipython3",
   "version": "3.6.9"
  }
 },
 "nbformat": 4,
 "nbformat_minor": 4
}
