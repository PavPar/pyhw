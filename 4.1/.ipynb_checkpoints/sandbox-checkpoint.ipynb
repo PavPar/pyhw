{
 "cells": [
  {
   "cell_type": "markdown",
   "metadata": {},
   "source": [
    "https://github.com/remiomosowon/pyeasyga.git"
   ]
  },
  {
   "cell_type": "code",
   "execution_count": 10,
   "metadata": {},
   "outputs": [],
   "source": [
    "import numpy as np\n",
    "import pandas as pd\n",
    "from pyeasyga import pyeasyga"
   ]
  },
  {
   "cell_type": "code",
   "execution_count": 11,
   "metadata": {
    "scrolled": true
   },
   "outputs": [],
   "source": [
    "wvcValues = pd.read_csv('22.txt', sep=\" \", header=None , skiprows=1, names=['w','v','c'])"
   ]
  },
  {
   "cell_type": "code",
   "execution_count": 12,
   "metadata": {},
   "outputs": [],
   "source": [
    "WVVals = pd.read_csv('22.txt', sep=\" \", header=None , nrows = 1)"
   ]
  },
  {
   "cell_type": "code",
   "execution_count": 31,
   "metadata": {},
   "outputs": [
    {
     "data": {
      "text/plain": [
       "[256,\n",
       " 518,\n",
       " 1468,\n",
       " 658,\n",
       " 525,\n",
       " 1662,\n",
       " 402,\n",
       " 1039,\n",
       " 535,\n",
       " 1635,\n",
       " 1389,\n",
       " 105,\n",
       " 591,\n",
       " 771,\n",
       " 853,\n",
       " 259,\n",
       " 1097,\n",
       " 1140,\n",
       " 853,\n",
       " 1286,\n",
       " 1621,\n",
       " 1582,\n",
       " 169,\n",
       " 610,\n",
       " 369,\n",
       " 270,\n",
       " 1467,\n",
       " 1226,\n",
       " 349,\n",
       " 1016]"
      ]
     },
     "execution_count": 31,
     "metadata": {},
     "output_type": "execute_result"
    }
   ],
   "source": [
    "wvcValues['w'].values.tolist()"
   ]
  },
  {
   "cell_type": "code",
   "execution_count": null,
   "metadata": {},
   "outputs": [],
   "source": [
    "MaxWeight = WVVals.iloc[0][0]"
   ]
  },
  {
   "cell_type": "code",
   "execution_count": null,
   "metadata": {},
   "outputs": [],
   "source": [
    "MaxVolume = WVVals.iloc[0][1]"
   ]
  },
  {
   "cell_type": "code",
   "execution_count": null,
   "metadata": {},
   "outputs": [],
   "source": [
    "ga = pyeasyga.GeneticAlgorithm(wvcValues)        # initialise the GA with data"
   ]
  },
  {
   "cell_type": "code",
   "execution_count": null,
   "metadata": {},
   "outputs": [],
   "source": []
  },
  {
   "cell_type": "code",
   "execution_count": null,
   "metadata": {},
   "outputs": [],
   "source": []
  },
  {
   "cell_type": "code",
   "execution_count": null,
   "metadata": {
    "scrolled": true
   },
   "outputs": [],
   "source": [
    "ga.fitness_function = fitness               # set the GA's fitness function\n",
    "ga.run()                                    # run the GA\n",
    "ga.best_individual()                  # print the GA's best solution"
   ]
  }
 ],
 "metadata": {
  "kernelspec": {
   "display_name": "Python 3",
   "language": "python",
   "name": "python3"
  },
  "language_info": {
   "codemirror_mode": {
    "name": "ipython",
    "version": 3
   },
   "file_extension": ".py",
   "mimetype": "text/x-python",
   "name": "python",
   "nbconvert_exporter": "python",
   "pygments_lexer": "ipython3",
   "version": "3.6.9"
  }
 },
 "nbformat": 4,
 "nbformat_minor": 4
}
