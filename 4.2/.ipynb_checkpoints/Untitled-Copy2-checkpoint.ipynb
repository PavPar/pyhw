{
 "cells": [
  {
   "cell_type": "code",
   "execution_count": 1,
   "metadata": {},
   "outputs": [],
   "source": [
    "import numpy as np\n",
    "import pandas as pd\n",
    "import random\n",
    "pd.options.mode.chained_assignment = None"
   ]
  },
  {
   "cell_type": "code",
   "execution_count": 2,
   "metadata": {},
   "outputs": [],
   "source": [
    "dataFrame = pd.read_csv('22.txt', sep=\" \", header=None, skiprows=1, names=['w', 'v', 'p'])\n",
    "WVVals = pd.read_csv('22.txt', sep=\" \", header=None, nrows=1)\n",
    "\n",
    "maxWeight = WVVals.iloc[0][0]\n",
    "maxVolume = WVVals.iloc[0][1]\n",
    "\n",
    "weightList = dataFrame['w'].values.tolist()\n",
    "volumeList = dataFrame['v'].values.tolist()\n",
    "priceList = dataFrame['p'].values.tolist()"
   ]
  },
  {
   "cell_type": "code",
   "execution_count": 3,
   "metadata": {},
   "outputs": [],
   "source": [
    "def fitness(currSet):\n",
    "    currWeight = sum([a * b for a, b in zip(weightList, currSet)])\n",
    "    currVolume = sum([a * b for a, b in zip(volumeList, currSet)])\n",
    "    currPrice = sum([a * b for a, b in zip(priceList, currSet)])\n",
    "\n",
    "    if currVolume > maxVolume or currWeight > maxWeight:\n",
    "        return 0;\n",
    "\n",
    "    return currPrice;\n"
   ]
  },
  {
   "cell_type": "code",
   "execution_count": 4,
   "metadata": {},
   "outputs": [],
   "source": [
    "# Шаг 1 . Случайная генерация\n",
    "def generateEntity(length):\n",
    "    return [random.randint(0, 1) for i in range(length)]\n",
    "\n",
    "def generation(length, entities):\n",
    "    sets = []\n",
    "    setID=0;\n",
    "    for i in range(entities):\n",
    "        newSet = generateEntity(length)\n",
    "        sets.append([setID, newSet, fitness(newSet)])\n",
    "        setID=setID+1\n",
    "    return pd.DataFrame(sets,columns=['id', 'set', 'fitness'])"
   ]
  },
  {
   "cell_type": "code",
   "execution_count": 17,
   "metadata": {},
   "outputs": [],
   "source": [
    "# Шаг 2. Массовая игра в русскую рулетку\n",
    "def sectioning(setsDF):\n",
    "    setsData = setsDF\n",
    "    setsData = setsData[setsData['fitness'] != 0]\n",
    "    totalFitness = sum(setsData['fitness'].values.tolist())\n",
    "    maxSectVal = 1;\n",
    "\n",
    "    setsData['section'] = setsData.apply(lambda row: row['fitness']/totalFitness, axis=1)\n",
    "    setsData = setsData.sort_values(by=['fitness'],ascending=False)\n",
    "\n",
    "    sectionsFixed = setsData['section'].values.tolist()\n",
    "    newSections = []\n",
    "    for fit in sectionsFixed:\n",
    "        maxSectVal = maxSectVal-fit\n",
    "        if(maxSectVal<0):\n",
    "            maxSectVal = 0\n",
    "        fit = maxSectVal\n",
    "        newSections.append(maxSectVal)\n",
    "    setsData['section'] = newSections\n",
    "    return setsData\n",
    "\n",
    "def roulette(sectDF):\n",
    "    while True:\n",
    "        rand = random.random()\n",
    "        chosen = sectDF[sectDF['section']>rand]\n",
    "        if(len(chosen.values.tolist())>0):break\n",
    "        if (len(sectDF.values.tolist()) == 1):return sectDF.iloc[0]   \n",
    "    return chosen.iloc[-1]"
   ]
  },
  {
   "cell_type": "code",
   "execution_count": 69,
   "metadata": {},
   "outputs": [],
   "source": [
    "#Создание пар\n",
    "def createPairs(setsDF):\n",
    "    setsDF = sectioning(setsDF)\n",
    "    setsDF['pair'] = [0 for i in range(len(setsDF['set'].values.tolist()))]\n",
    "    currPairNum = 0\n",
    "    while True:\n",
    "        pairless = setsDF[setsDF['pair']==0]\n",
    "        pairlessCount = len(pairless.values.tolist())\n",
    "        pairless = sectioning(pairless)\n",
    "        if(pairlessCount < 2):\n",
    "            break\n",
    "        \n",
    "        firstParentID = roulette(pairless)['id']\n",
    "        secondParentID = roulette(pairless[pairless['id'] != firstParentID])['id']\n",
    "        setsDF.loc[setsDF['id'].isin([firstParentID,secondParentID]),'pair'] = currPairNum\n",
    "        currPairNum=currPairNum+1\n",
    "    return setsDF\n",
    "\n",
    "#Шаг 5. Формирование новой популяции (замена своих родителей)\n",
    "\n",
    "#Шаг 6. Оценка"
   ]
  },
  {
   "cell_type": "code",
   "execution_count": 10,
   "metadata": {},
   "outputs": [],
   "source": [
    "#Шаг 3. Кроссинговер (однородный (каждый бит от случайно выбранного родителя))\n",
    "def breed(setPair):\n",
    "    return [setPair[random.randint(0,1)][i] for i in range(0,len(setPair[0]))]"
   ]
  },
  {
   "cell_type": "code",
   "execution_count": 11,
   "metadata": {},
   "outputs": [],
   "source": [
    "#Шаг 4. Мутация (инвертирование всех битов у 1 особи )\n",
    "def mutation(setPair):\n",
    "    randnum = random.randint(0,1)\n",
    "    return [(~np.array(setPair[randnum]).astype('bool')).astype('int').tolist(),setPair[1-randnum]]"
   ]
  },
  {
   "cell_type": "code",
   "execution_count": 12,
   "metadata": {},
   "outputs": [],
   "source": [
    "def newPop(setsPairs):\n",
    "    columnNames = ['id', 'set', 'fitness']\n",
    "    pairsCount = setsPairs[\"pair\"].max()\n",
    "    newDF = pd.DataFrame(columns=columnNames)\n",
    "    for pairIDX in range(1,pairsCount+1):\n",
    "        setPair = setsPairs[setsPairs['pair'] == pairIDX]['set'].values.tolist()\n",
    "        children = [breed(setPair),breed(setPair)]\n",
    "        children = mutation(children)\n",
    "        childIDS = setsPairs[setsPairs['pair'] == pairIDX]['id'].values.tolist()\n",
    "        childID = 0\n",
    "        for child in children:\n",
    "            childDF = pd.DataFrame([[childIDS[childID],child,fitness(child)]],columns=columnNames)\n",
    "            childID = childID+1\n",
    "            newDF = newDF.append(childDF)\n",
    "    return newDF"
   ]
  },
  {
   "cell_type": "code",
   "execution_count": 96,
   "metadata": {
    "scrolled": true
   },
   "outputs": [
    {
     "data": {
      "text/plain": [
       "3321"
      ]
     },
     "execution_count": 96,
     "metadata": {},
     "output_type": "execute_result"
    }
   ],
   "source": [
    "iterationCount=0\n",
    "setsDF = generation(len(priceList), 200)\n",
    "while(iterationCount<500):\n",
    "    prevmaxfit=setsDF['fitness'].max()    \n",
    "    setsPairs = createPairs(setsDF)\n",
    "    if (len(setsPairs[setsPairs['pair']!=0].values.tolist()) == 0):\n",
    "        continue\n",
    "    newSets = newPop(setsPairs[setsPairs['pair']!=0])\n",
    "    newIDS = newSets['id'].values.tolist()\n",
    "    setsDF = setsDF[~setsDF['id'].isin(newIDS)].append(newSets)\n",
    "    iterationCount= iterationCount+1\n",
    "    if(abs(setsDF['fitness'].max()-prevmaxfit)<min(priceList)):\n",
    "        break\n",
    "    if(len(setsDF[setsDF['fitness']!=0].values.tolist())<2):\n",
    "        break\n",
    "setsDF['fitness'].max()"
   ]
  },
  {
   "cell_type": "code",
   "execution_count": 71,
   "metadata": {
    "scrolled": true
   },
   "outputs": [
    {
     "data": {
      "text/html": [
       "<div>\n",
       "<style scoped>\n",
       "    .dataframe tbody tr th:only-of-type {\n",
       "        vertical-align: middle;\n",
       "    }\n",
       "\n",
       "    .dataframe tbody tr th {\n",
       "        vertical-align: top;\n",
       "    }\n",
       "\n",
       "    .dataframe thead th {\n",
       "        text-align: right;\n",
       "    }\n",
       "</style>\n",
       "<table border=\"1\" class=\"dataframe\">\n",
       "  <thead>\n",
       "    <tr style=\"text-align: right;\">\n",
       "      <th></th>\n",
       "      <th>id</th>\n",
       "      <th>set</th>\n",
       "      <th>fitness</th>\n",
       "    </tr>\n",
       "  </thead>\n",
       "  <tbody>\n",
       "    <tr>\n",
       "      <th>3</th>\n",
       "      <td>3</td>\n",
       "      <td>[1, 0, 1, 1, 0, 0, 1, 1, 1, 1, 1, 1, 1, 1, 1, ...</td>\n",
       "      <td>0</td>\n",
       "    </tr>\n",
       "    <tr>\n",
       "      <th>5</th>\n",
       "      <td>5</td>\n",
       "      <td>[0, 1, 1, 1, 1, 1, 1, 0, 1, 1, 1, 1, 1, 1, 0, ...</td>\n",
       "      <td>0</td>\n",
       "    </tr>\n",
       "    <tr>\n",
       "      <th>6</th>\n",
       "      <td>6</td>\n",
       "      <td>[0, 0, 1, 0, 0, 1, 1, 0, 0, 1, 1, 1, 0, 1, 0, ...</td>\n",
       "      <td>0</td>\n",
       "    </tr>\n",
       "    <tr>\n",
       "      <th>7</th>\n",
       "      <td>7</td>\n",
       "      <td>[1, 1, 1, 1, 1, 0, 0, 1, 0, 0, 0, 1, 1, 0, 0, ...</td>\n",
       "      <td>0</td>\n",
       "    </tr>\n",
       "    <tr>\n",
       "      <th>9</th>\n",
       "      <td>9</td>\n",
       "      <td>[0, 1, 1, 0, 1, 1, 1, 1, 0, 0, 0, 1, 1, 1, 1, ...</td>\n",
       "      <td>0</td>\n",
       "    </tr>\n",
       "    <tr>\n",
       "      <th>...</th>\n",
       "      <td>...</td>\n",
       "      <td>...</td>\n",
       "      <td>...</td>\n",
       "    </tr>\n",
       "    <tr>\n",
       "      <th>0</th>\n",
       "      <td>138</td>\n",
       "      <td>[0, 1, 0, 0, 0, 1, 0, 1, 1, 0, 0, 0, 0, 0, 0, ...</td>\n",
       "      <td>1692</td>\n",
       "    </tr>\n",
       "    <tr>\n",
       "      <th>0</th>\n",
       "      <td>60</td>\n",
       "      <td>[1, 1, 0, 1, 0, 1, 1, 1, 1, 0, 1, 1, 1, 1, 1, ...</td>\n",
       "      <td>0</td>\n",
       "    </tr>\n",
       "    <tr>\n",
       "      <th>0</th>\n",
       "      <td>181</td>\n",
       "      <td>[0, 0, 1, 0, 1, 0, 1, 0, 0, 1, 1, 0, 1, 0, 0, ...</td>\n",
       "      <td>2472</td>\n",
       "    </tr>\n",
       "    <tr>\n",
       "      <th>0</th>\n",
       "      <td>8</td>\n",
       "      <td>[1, 1, 0, 1, 1, 1, 0, 1, 1, 1, 1, 1, 1, 0, 1, ...</td>\n",
       "      <td>0</td>\n",
       "    </tr>\n",
       "    <tr>\n",
       "      <th>0</th>\n",
       "      <td>45</td>\n",
       "      <td>[0, 0, 1, 0, 0, 0, 1, 0, 0, 0, 0, 0, 0, 1, 0, ...</td>\n",
       "      <td>2332</td>\n",
       "    </tr>\n",
       "  </tbody>\n",
       "</table>\n",
       "<p>200 rows × 3 columns</p>\n",
       "</div>"
      ],
      "text/plain": [
       "     id                                                set fitness\n",
       "3     3  [1, 0, 1, 1, 0, 0, 1, 1, 1, 1, 1, 1, 1, 1, 1, ...       0\n",
       "5     5  [0, 1, 1, 1, 1, 1, 1, 0, 1, 1, 1, 1, 1, 1, 0, ...       0\n",
       "6     6  [0, 0, 1, 0, 0, 1, 1, 0, 0, 1, 1, 1, 0, 1, 0, ...       0\n",
       "7     7  [1, 1, 1, 1, 1, 0, 0, 1, 0, 0, 0, 1, 1, 0, 0, ...       0\n",
       "9     9  [0, 1, 1, 0, 1, 1, 1, 1, 0, 0, 0, 1, 1, 1, 1, ...       0\n",
       "..  ...                                                ...     ...\n",
       "0   138  [0, 1, 0, 0, 0, 1, 0, 1, 1, 0, 0, 0, 0, 0, 0, ...    1692\n",
       "0    60  [1, 1, 0, 1, 0, 1, 1, 1, 1, 0, 1, 1, 1, 1, 1, ...       0\n",
       "0   181  [0, 0, 1, 0, 1, 0, 1, 0, 0, 1, 1, 0, 1, 0, 0, ...    2472\n",
       "0     8  [1, 1, 0, 1, 1, 1, 0, 1, 1, 1, 1, 1, 1, 0, 1, ...       0\n",
       "0    45  [0, 0, 1, 0, 0, 0, 1, 0, 0, 0, 0, 0, 0, 1, 0, ...    2332\n",
       "\n",
       "[200 rows x 3 columns]"
      ]
     },
     "execution_count": 71,
     "metadata": {},
     "output_type": "execute_result"
    }
   ],
   "source": [
    "setsDF"
   ]
  },
  {
   "cell_type": "code",
   "execution_count": null,
   "metadata": {},
   "outputs": [],
   "source": [
    "setsData = setsDF\n",
    "setsData = setsData[setsData['fitness'] != 0]\n",
    "totalFitness = sum(setsData['fitness'].values.tolist())\n",
    "maxSectVal = 1\n",
    "\n",
    "setsData.loc[:,'ab'] = 0\n",
    "setsData"
   ]
  }
 ],
 "metadata": {
  "kernelspec": {
   "display_name": "Python 3",
   "language": "python",
   "name": "python3"
  },
  "language_info": {
   "codemirror_mode": {
    "name": "ipython",
    "version": 3
   },
   "file_extension": ".py",
   "mimetype": "text/x-python",
   "name": "python",
   "nbconvert_exporter": "python",
   "pygments_lexer": "ipython3",
   "version": "3.6.9"
  }
 },
 "nbformat": 4,
 "nbformat_minor": 4
}
