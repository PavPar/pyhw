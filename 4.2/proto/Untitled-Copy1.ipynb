{
 "cells": [
  {
   "cell_type": "code",
   "execution_count": 1,
   "metadata": {},
   "outputs": [],
   "source": [
    "import numpy as np\n",
    "import pandas as pd\n",
    "import random"
   ]
  },
  {
   "cell_type": "code",
   "execution_count": 2,
   "metadata": {},
   "outputs": [],
   "source": [
    "dataFrame = pd.read_csv('22.txt', sep=\" \", header=None, skiprows=1, names=['w', 'v', 'p'])\n",
    "WVVals = pd.read_csv('22.txt', sep=\" \", header=None, nrows=1)\n",
    "\n",
    "maxWeight = WVVals.iloc[0][0]\n",
    "maxVolume = WVVals.iloc[0][1]\n",
    "\n",
    "weightList = dataFrame['w'].values.tolist()\n",
    "volumeList = dataFrame['v'].values.tolist()\n",
    "priceList = dataFrame['p'].values.tolist()"
   ]
  },
  {
   "cell_type": "code",
   "execution_count": 3,
   "metadata": {},
   "outputs": [],
   "source": [
    "def fitness(currSet):\n",
    "    currWeight = sum([a * b for a, b in zip(weightList, currSet)])\n",
    "    currVolume = sum([a * b for a, b in zip(volumeList, currSet)])\n",
    "    currPrice = sum([a * b for a, b in zip(priceList, currSet)])\n",
    "\n",
    "    if currVolume > maxVolume or currWeight > maxWeight:\n",
    "        return 0;\n",
    "\n",
    "    return currPrice;\n"
   ]
  },
  {
   "cell_type": "code",
   "execution_count": 4,
   "metadata": {},
   "outputs": [],
   "source": [
    "# Шаг 1 . Случайная генерация\n",
    "def generateEntity(length):\n",
    "    return [random.randint(0, 1) for i in range(length)]\n",
    "\n",
    "def generation(length, entities):\n",
    "    sets = []\n",
    "    setID=0;\n",
    "    for i in range(entities):\n",
    "        newSet = generateEntity(length)\n",
    "        sets.append([setID, newSet, fitness(newSet)])\n",
    "        setID=setID+1\n",
    "    return pd.DataFrame(sets,columns=['id', 'set', 'fitness'])\n",
    "\n",
    "\n"
   ]
  },
  {
   "cell_type": "code",
   "execution_count": 5,
   "metadata": {},
   "outputs": [],
   "source": [
    "# Шаг 2. Массовая игра в русскую рулетку\n",
    "def rouleteSelection(setsDF):\n",
    "    setsData = setsDF[['id','set','fitness']]\n",
    "    setsData = setsData[setsData['fitness'] != 0]\n",
    "    totalFitness = sum(setsData['fitness'].values.tolist())\n",
    "    maxSectVal = 1;\n",
    "\n",
    "    setsData['section'] = setsData.apply(lambda row: row['fitness']/totalFitness, axis=1)\n",
    "    setsData = setsData.sort_values(by=['fitness'],ascending=False)\n",
    "\n",
    "    sectionsFixed = setsData['section'].values.tolist()\n",
    "    newSections = []\n",
    "    for fit in sectionsFixed:\n",
    "        maxSectVal = maxSectVal-fit\n",
    "        if(maxSectVal<0):\n",
    "            maxSectVal = 0\n",
    "        fit = maxSectVal\n",
    "        newSections.append(maxSectVal)\n",
    "    setsData['section'] = newSections\n",
    "    return setsData[setsData['section']>random.random()][['id','set','fitness']]"
   ]
  },
  {
   "cell_type": "code",
   "execution_count": 6,
   "metadata": {},
   "outputs": [],
   "source": [
    "#Создание пар\n",
    "def createPairs(selectedSets):\n",
    "    totalPairsCount = len(selectedSets[set].values.tolist())\n",
    "    selectedSets['pair'] = [0 for i in range(totalPairsCount)]\n",
    "    currPairNum = 0\n",
    "\n",
    "    while True:\n",
    "        pairless = selectedSets[selectedSets['pair']==0]\n",
    "        pairlessCount = len(pairless.values.tolist())\n",
    "    \n",
    "        if(pairlessCount < 2):\n",
    "            break\n",
    "        \n",
    "        while True:\n",
    "            firstParentIdx = random.randint(0,pairlessCount-1)\n",
    "            secondParentIdx = random.randint(0,pairlessCount-1)\n",
    "            if(firstParentIdx != secondParentIdx):\n",
    "                break\n",
    "        selectedSets.iloc[[firstParentIdx,secondParentIdx],3] = currPairNum\n",
    "        selectedSets = selectedSets.sort_values(by=['pair'])\n",
    "        currPairNum=currPairNum+1\n",
    "    return selectedSets\n",
    "\n",
    "#Шаг 5. Формирование новой популяции (замена своих родителей)\n",
    "\n",
    "#Шаг 6. Оценка"
   ]
  },
  {
   "cell_type": "code",
   "execution_count": 7,
   "metadata": {},
   "outputs": [],
   "source": [
    "#Шаг 3. Кроссинговер (однородный (каждый бит от случайно выбранного родителя))\n",
    "def breed(setPair):\n",
    "    return [setPair[random.randint(0,1)][i] for i in range(0,len(setPair[0]))]"
   ]
  },
  {
   "cell_type": "code",
   "execution_count": 8,
   "metadata": {},
   "outputs": [],
   "source": [
    "#Шаг 4. Мутация (инвертирование всех битов у 1 особи )\n",
    "def mutation(setPair):\n",
    "    randnum = random.randint(0,1)\n",
    "    return [(~np.array(setPair[randnum]).astype('bool')).astype('int').tolist(),setPair[1-randnum]]"
   ]
  },
  {
   "cell_type": "code",
   "execution_count": 9,
   "metadata": {},
   "outputs": [],
   "source": [
    "def newPop(setsPairs):\n",
    "    columnNames = ['id', 'set', 'fitness']\n",
    "    pairsCount = setsPairs[\"pair\"].max()\n",
    "    newDF = pd.DataFrame(columns=columnNames)\n",
    "    for pairIDX in range(1,pairsCount+1):\n",
    "        setPair = setsPairs[setsPairs['pair'] == pairIDX]['set'].values.tolist()\n",
    "        children = [breed(setPair),breed(setPair)]\n",
    "        children = mutation(children)\n",
    "        childIDS = setsPairs[setsPairs['pair'] == pairIDX]['id'].values.tolist()\n",
    "        childID = 0\n",
    "        for child in children:\n",
    "            childDF = pd.DataFrame([[childIDS[childID],child,fitness(child)]],columns=columnNames)\n",
    "            childID = childID+1\n",
    "            newDF = newDF.append(childDF)\n",
    "    return newDF"
   ]
  },
  {
   "cell_type": "code",
   "execution_count": 10,
   "metadata": {},
   "outputs": [
    {
     "data": {
      "text/plain": [
       "3255"
      ]
     },
     "execution_count": 10,
     "metadata": {},
     "output_type": "execute_result"
    }
   ],
   "source": [
    "iterationCount=0\n",
    "setsDF = generation(len(priceList), 200)\n",
    "while(iterationCount<500):\n",
    "    prevmaxfit=setsDF['fitness'].max()    \n",
    "    selectedSets = rouleteSelection(setsDF)\n",
    "    setsPairs = createPairs(selectedSets)\n",
    "    if (len(setsPairs[setsPairs['pair']!=0].values.tolist()) == 0):\n",
    "        continue\n",
    "    newSets = newPop(setsPairs[setsPairs['pair']!=0])\n",
    "    newIDS = newSets['id'].values.tolist()\n",
    "    setsDF = setsDF[~setsDF['id'].isin(newIDS)].append(newSets)\n",
    "    iterationCount= iterationCount+1\n",
    "    if(abs(setsDF['fitness'].max()-prevmaxfit)<min(priceList)):\n",
    "        break\n",
    "setsDF['fitness'].max()"
   ]
  },
  {
   "cell_type": "code",
   "execution_count": 11,
   "metadata": {
    "scrolled": true
   },
   "outputs": [
    {
     "data": {
      "text/html": [
       "<div>\n",
       "<style scoped>\n",
       "    .dataframe tbody tr th:only-of-type {\n",
       "        vertical-align: middle;\n",
       "    }\n",
       "\n",
       "    .dataframe tbody tr th {\n",
       "        vertical-align: top;\n",
       "    }\n",
       "\n",
       "    .dataframe thead th {\n",
       "        text-align: right;\n",
       "    }\n",
       "</style>\n",
       "<table border=\"1\" class=\"dataframe\">\n",
       "  <thead>\n",
       "    <tr style=\"text-align: right;\">\n",
       "      <th></th>\n",
       "      <th>id</th>\n",
       "      <th>set</th>\n",
       "      <th>fitness</th>\n",
       "    </tr>\n",
       "  </thead>\n",
       "  <tbody>\n",
       "    <tr>\n",
       "      <th>0</th>\n",
       "      <td>0</td>\n",
       "      <td>[1, 0, 1, 0, 0, 0, 0, 0, 1, 0, 1, 1, 0, 0, 0, ...</td>\n",
       "      <td>0</td>\n",
       "    </tr>\n",
       "    <tr>\n",
       "      <th>1</th>\n",
       "      <td>1</td>\n",
       "      <td>[1, 1, 0, 1, 0, 1, 0, 1, 0, 1, 1, 0, 0, 1, 0, ...</td>\n",
       "      <td>0</td>\n",
       "    </tr>\n",
       "    <tr>\n",
       "      <th>2</th>\n",
       "      <td>2</td>\n",
       "      <td>[1, 0, 1, 1, 1, 1, 1, 0, 0, 1, 0, 1, 0, 1, 1, ...</td>\n",
       "      <td>0</td>\n",
       "    </tr>\n",
       "    <tr>\n",
       "      <th>3</th>\n",
       "      <td>3</td>\n",
       "      <td>[0, 0, 1, 0, 1, 1, 0, 0, 0, 1, 0, 1, 0, 0, 1, ...</td>\n",
       "      <td>0</td>\n",
       "    </tr>\n",
       "    <tr>\n",
       "      <th>5</th>\n",
       "      <td>5</td>\n",
       "      <td>[1, 1, 1, 0, 0, 0, 1, 0, 1, 1, 0, 0, 1, 1, 0, ...</td>\n",
       "      <td>0</td>\n",
       "    </tr>\n",
       "    <tr>\n",
       "      <th>...</th>\n",
       "      <td>...</td>\n",
       "      <td>...</td>\n",
       "      <td>...</td>\n",
       "    </tr>\n",
       "    <tr>\n",
       "      <th>0</th>\n",
       "      <td>134</td>\n",
       "      <td>[1, 1, 0, 0, 1, 1, 0, 0, 0, 0, 1, 1, 0, 0, 0, ...</td>\n",
       "      <td>3255</td>\n",
       "    </tr>\n",
       "    <tr>\n",
       "      <th>0</th>\n",
       "      <td>20</td>\n",
       "      <td>[0, 0, 1, 1, 0, 1, 1, 1, 1, 1, 0, 1, 1, 0, 1, ...</td>\n",
       "      <td>0</td>\n",
       "    </tr>\n",
       "    <tr>\n",
       "      <th>0</th>\n",
       "      <td>105</td>\n",
       "      <td>[0, 1, 0, 0, 1, 0, 0, 1, 0, 1, 0, 0, 0, 1, 1, ...</td>\n",
       "      <td>2885</td>\n",
       "    </tr>\n",
       "    <tr>\n",
       "      <th>0</th>\n",
       "      <td>38</td>\n",
       "      <td>[1, 0, 0, 1, 1, 1, 0, 1, 1, 1, 1, 0, 0, 1, 1, ...</td>\n",
       "      <td>0</td>\n",
       "    </tr>\n",
       "    <tr>\n",
       "      <th>0</th>\n",
       "      <td>11</td>\n",
       "      <td>[0, 1, 0, 1, 1, 0, 0, 0, 1, 1, 0, 1, 1, 1, 0, ...</td>\n",
       "      <td>0</td>\n",
       "    </tr>\n",
       "  </tbody>\n",
       "</table>\n",
       "<p>200 rows × 3 columns</p>\n",
       "</div>"
      ],
      "text/plain": [
       "     id                                                set fitness\n",
       "0     0  [1, 0, 1, 0, 0, 0, 0, 0, 1, 0, 1, 1, 0, 0, 0, ...       0\n",
       "1     1  [1, 1, 0, 1, 0, 1, 0, 1, 0, 1, 1, 0, 0, 1, 0, ...       0\n",
       "2     2  [1, 0, 1, 1, 1, 1, 1, 0, 0, 1, 0, 1, 0, 1, 1, ...       0\n",
       "3     3  [0, 0, 1, 0, 1, 1, 0, 0, 0, 1, 0, 1, 0, 0, 1, ...       0\n",
       "5     5  [1, 1, 1, 0, 0, 0, 1, 0, 1, 1, 0, 0, 1, 1, 0, ...       0\n",
       "..  ...                                                ...     ...\n",
       "0   134  [1, 1, 0, 0, 1, 1, 0, 0, 0, 0, 1, 1, 0, 0, 0, ...    3255\n",
       "0    20  [0, 0, 1, 1, 0, 1, 1, 1, 1, 1, 0, 1, 1, 0, 1, ...       0\n",
       "0   105  [0, 1, 0, 0, 1, 0, 0, 1, 0, 1, 0, 0, 0, 1, 1, ...    2885\n",
       "0    38  [1, 0, 0, 1, 1, 1, 0, 1, 1, 1, 1, 0, 0, 1, 1, ...       0\n",
       "0    11  [0, 1, 0, 1, 1, 0, 0, 0, 1, 1, 0, 1, 1, 1, 0, ...       0\n",
       "\n",
       "[200 rows x 3 columns]"
      ]
     },
     "execution_count": 11,
     "metadata": {},
     "output_type": "execute_result"
    }
   ],
   "source": [
    "setsDF"
   ]
  }
 ],
 "metadata": {
  "kernelspec": {
   "display_name": "Python 3",
   "language": "python",
   "name": "python3"
  },
  "language_info": {
   "codemirror_mode": {
    "name": "ipython",
    "version": 3
   },
   "file_extension": ".py",
   "mimetype": "text/x-python",
   "name": "python",
   "nbconvert_exporter": "python",
   "pygments_lexer": "ipython3",
   "version": "3.6.9"
  }
 },
 "nbformat": 4,
 "nbformat_minor": 4
}
